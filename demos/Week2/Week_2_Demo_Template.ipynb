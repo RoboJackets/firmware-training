{
  "cells": [
    {
      "cell_type": "markdown",
      "metadata": {
        "id": "gjT7QCBsrIxk"
      },
      "source": [
        "# Week 2"
      ]
    },
    {
      "cell_type": "markdown",
      "metadata": {
        "id": "ExUggTKIrc-U"
      },
      "source": [
        "## Functions in C++"
      ]
    },
    {
      "cell_type": "markdown",
      "metadata": {
        "id": "4jpE1RaN1Hsh"
      },
      "source": [
        "### Declaring, Defining, and Calling Functions"
      ]
    },
    {
      "cell_type": "markdown",
      "metadata": {
        "id": "6tufB2RGwlSG"
      },
      "source": [
        "**Declare** a function `mult` which multiplies two integers `a` and `b` and returns the result:\n",
        "```\n",
        "int mult(int a, int b);\n",
        "```\n",
        "\n",
        "**Define** mult:\n",
        "\n",
        "```\n",
        "int mult(int a, int b) {\n",
        "  return a * b;\n",
        "}\n",
        "```\n",
        "\n",
        "Call **mult** to calculate the product of `3` and `9`:\n",
        "\n",
        "```\n",
        "int main() {\n",
        "  int result = mult(3, 9);\n",
        "  return 0;\n",
        "}\n",
        "```\n"
      ]
    },
    {
      "cell_type": "markdown",
      "metadata": {
        "id": "c4MKN1jg1M5a"
      },
      "source": [
        "### Demo, Part 1"
      ]
    },
    {
      "cell_type": "code",
      "execution_count": null,
      "metadata": {
        "colab": {
          "base_uri": "https://localhost:8080/"
        },
        "id": "FA1383het0_5",
        "outputId": "a50c288e-f14e-45a0-8d4a-caf83159f575"
      },
      "outputs": [],
      "source": [
        "%%writefile functions.cpp\n",
        "\n",
        "// TODO: Include the iostream library here\n",
        "\n",
        "\n",
        "// TODO: Declare a function named \"add\", which takes two integers \"a\" and \"b\" \n",
        "//        as arguments and returns an integer.\n",
        "\n",
        "\n",
        "// TODO: Declare a function named \"fib\", which takes one integer \"n\" as an\n",
        "//        argument and returns an integer.\n",
        "\n",
        "\n",
        "// TODO: Define the \"add\" function here, which returns the sum of \"a\" and \"b\"\n",
        "\n",
        "\n",
        "// TODO: Define the \"fib\" function here, which returns the nth fibonacci\n",
        "//        number.\n",
        "//        NOTE: f0 = 0, f1 = 1, fn = f_{n-1} + f_{n-2}\n",
        "\n",
        "\n",
        "// DO NOT EDIT!\n",
        "int main() {\n",
        "    \n",
        "    for (int i = 0; i <= 7; i++) {\n",
        "        std::cout << i << \": \" << fib(i) << std::endl;\n",
        "    }\n",
        "    \n",
        "    return 0;\n",
        "}"
      ]
    },
    {
      "cell_type": "code",
      "execution_count": null,
      "metadata": {
        "colab": {
          "base_uri": "https://localhost:8080/"
        },
        "id": "XsdnKQLAv4Ua",
        "outputId": "031f5242-9b73-4b4f-ce22-a7b6117b6845"
      },
      "outputs": [],
      "source": [
        "%%bash\n",
        "\n",
        "g++ functions.cpp -o functions\n",
        "./functions"
      ]
    },
    {
      "cell_type": "markdown",
      "metadata": {
        "id": "7EYkKJ_Kwe7n"
      },
      "source": [
        "## Variable Scope, For Loops, While Loops"
      ]
    },
    {
      "cell_type": "markdown",
      "metadata": {
        "id": "MsBEZuRm0CT7"
      },
      "source": [
        "### Variable Scope"
      ]
    },
    {
      "cell_type": "markdown",
      "metadata": {
        "id": "d5wXOHU9wru2"
      },
      "source": [
        "A variable can only be used within the scope it is defined for. \n",
        "* A variable with **global** scope can be used anywhere in the program. You can make a global variable by declaring it outside of `main()`.\n",
        "* A variable with **local** scope means the variable is enclosed in some curly braces. You can only use the variable inside those curly braces. After that, you cannot use the local variable. Function arguments and loop counter variables count as local variables."
      ]
    },
    {
      "cell_type": "markdown",
      "metadata": {
        "id": "OqzD0EnY0LKV"
      },
      "source": [
        "### For Loop"
      ]
    },
    {
      "cell_type": "markdown",
      "metadata": {
        "id": "c2wVnq3T0SqX"
      },
      "source": [
        "Examples of `for` loops:\n",
        "```\n",
        "for (int i = 0; i < 10; i++) {}\n",
        "for (int j = 5; j >= 0; j--) {}\n",
        "for (int k = 0; k < 20; k += 2) {}\n",
        "```"
      ]
    },
    {
      "cell_type": "markdown",
      "metadata": {
        "id": "_HRmKezG0eb7"
      },
      "source": [
        "### While Loop"
      ]
    },
    {
      "cell_type": "markdown",
      "metadata": {
        "id": "XsY9dLWq0gfU"
      },
      "source": [
        "Example of a 'while` loop:\n",
        "```\n",
        "int count = 1;\n",
        "\n",
        "while (count <= 10 and count >= -10) {\n",
        "  count *= -2;\n",
        "} \n",
        "```\n"
      ]
    },
    {
      "cell_type": "markdown",
      "metadata": {
        "id": "zfOk7OMw0n4W"
      },
      "source": [
        "### Infinite Loop"
      ]
    },
    {
      "cell_type": "markdown",
      "metadata": {
        "id": "F-1HpCzG0wFT"
      },
      "source": [
        "Examples of infinite loops:\n",
        "\n",
        "```\n",
        "while (true) {}\n",
        "for (;;) {}\n",
        "```\n"
      ]
    },
    {
      "cell_type": "markdown",
      "metadata": {
        "id": "9KLiJZ_-1Aj1"
      },
      "source": [
        "### Demo, Part 2"
      ]
    },
    {
      "cell_type": "code",
      "execution_count": null,
      "metadata": {
        "colab": {
          "base_uri": "https://localhost:8080/"
        },
        "id": "7tHFsAgz0_H0",
        "outputId": "38ca3645-583c-443b-8e30-8a0af6bac7bd"
      },
      "outputs": [],
      "source": [
        "%%writefile looping.cpp\n",
        "\n",
        "#include <iostream>\n",
        "\n",
        "int i = 5;    // Global variable i\n",
        "\n",
        "int main() {\n",
        "\n",
        "  std::cout << \"The value of 'i' before is: \" << i << std::endl;\n",
        "  std::cout << \"For Loop\" << std::endl; \n",
        "\n",
        "  // TODO: Write a for loop that \n",
        "  //     * declares a LOCAL variable i\n",
        "  //     * prints out the numbers from 0 to 9 using local variable i\n",
        "\n",
        "\n",
        "\n",
        "  std::cout << std::endl;\n",
        "  std::cout << \"While Loop\" << std::endl; \n",
        "\n",
        "  // TODO: Write a while loop that \n",
        "  //     * prints out the value of GLOBAL variable i, \n",
        "  //     * increments i by 2, and \n",
        "  //     * stops when i >= 7\n",
        "\n",
        "\n",
        "\n",
        "  std::cout << std::endl;\n",
        "  std::cout << \"The value of 'i' after is: \" << i << std::endl;\n",
        "\n",
        "  return 0;\n",
        "}"
      ]
    },
    {
      "cell_type": "code",
      "execution_count": null,
      "metadata": {
        "colab": {
          "base_uri": "https://localhost:8080/"
        },
        "id": "EAmyYL5M2LcR",
        "outputId": "7a781e25-8566-4db7-9577-64e42aed87bf"
      },
      "outputs": [],
      "source": [
        "%%bash\n",
        "\n",
        "g++ looping.cpp -o looping\n",
        "./looping"
      ]
    },
    {
      "cell_type": "markdown",
      "metadata": {
        "id": "G5oNRbiL2eS3"
      },
      "source": [
        "## Arrays"
      ]
    },
    {
      "cell_type": "markdown",
      "metadata": {
        "id": "flYPq1gY2kEd"
      },
      "source": [
        "### Array Examples"
      ]
    },
    {
      "cell_type": "markdown",
      "metadata": {
        "id": "cuhbB35n21t0"
      },
      "source": [
        "Example 1:\n",
        "```\n",
        "int countMe[5];\n",
        "countMe = {1, 2, 3, 4, 5};\n",
        "```\n",
        "\n",
        "Example 2:\n",
        "\n",
        "```\n",
        "double magicNumbers[] = {0.94, 0.91, 0.15, 0.51};\n",
        "```\n",
        "\n",
        "Example 3:\n",
        "```\n",
        "char wrongColor[7];\n",
        "wrongColor[0] = 'c';\n",
        "wrongColor[1] = 'o';\n",
        "wrongColor[2] = 'l';\n",
        "wrongColor[3] = 'o';\n",
        "wrongColor[4] = 'u';\n",
        "wrongColor[5] = 'r';\n",
        "wrongColor[6] = '\\0';\n",
        "```\n",
        "\n",
        "Example 4:\n",
        "```\n",
        "char wrongColor[] = \"colour\";\n",
        "```"
      ]
    },
    {
      "cell_type": "markdown",
      "metadata": {
        "id": "r5cNdGkO5Bl2"
      },
      "source": [
        "### Demo, Part 3"
      ]
    },
    {
      "cell_type": "code",
      "execution_count": null,
      "metadata": {
        "colab": {
          "base_uri": "https://localhost:8080/"
        },
        "id": "sXSKlQgr5C5-",
        "outputId": "abac6037-e120-4d93-ecd8-69c96b09aadc"
      },
      "outputs": [],
      "source": [
        "%%writefile betterFib.cpp\n",
        "\n",
        "#include <iostream>\n",
        "\n",
        "int betterFib(int n);\n",
        "\n",
        "// TODO: Complete the function betterFib. Use an array instead of recursion!\n",
        "//     * If n is 0 or 1, return the answer\n",
        "//     * Otherwise, declare an array fibArr.\n",
        "//         Determine the ith Fibonacci number using fibArr[i-1] and fibArr[i-2]\n",
        "//         The last element in fibArr should be the answer!\n",
        "//     NOTE: f0 = 0, f1 = 1, fn = f_{n-1} + f_{n-2}\n",
        "\n",
        "int betterFib(int n) {\n",
        "    \n",
        "}\n",
        "\n",
        "int main() {\n",
        "\n",
        "  // Test #1 for betterFib\n",
        "  std::cout << \"Test: n = 0. \\n\\tExpected: 0 \\n\\tActual: \" << betterFib(0) << std::endl;\n",
        "  std::cout << \"Test: n = 1. \\n\\tExpected: 1 \\n\\tActual: \" << betterFib(1) << std::endl;\n",
        "\n",
        "  // Test #2 for betterFib\n",
        "  std::cout << \"Test: n = 7. \\n\\tExpected: 13 \\n\\tActual: \" << betterFib(7) << std::endl;\n",
        "  std::cout << \"Test: n = 45. \\n\\tExpected: 1134903170 \\n\\tActual: \" << betterFib(45) << std::endl;\n",
        "\n",
        "  return 0;\n",
        "}"
      ]
    },
    {
      "cell_type": "code",
      "execution_count": null,
      "metadata": {
        "colab": {
          "base_uri": "https://localhost:8080/"
        },
        "id": "GFdSMuaT5w0-",
        "outputId": "6ceba22b-3824-4cad-a8c5-e028094fd046"
      },
      "outputs": [],
      "source": [
        "%%bash\n",
        "\n",
        "g++ betterFib.cpp -o betterFib\n",
        "./betterFib"
      ]
    },
    {
      "cell_type": "markdown",
      "metadata": {
        "id": "xCXwvXuc6Q6f"
      },
      "source": [
        "## Structs and C-strings"
      ]
    },
    {
      "cell_type": "markdown",
      "metadata": {
        "id": "pgYIcsL66Tqd"
      },
      "source": [
        "### Structs"
      ]
    },
    {
      "cell_type": "markdown",
      "metadata": {
        "id": "nubn2xXO6jt2"
      },
      "source": [
        "Example of a struct:\n",
        "\n",
        "```\n",
        "// Declaring & Defining a Struct\n",
        "struct {\n",
        "  char cardSuite;\n",
        "  int cardValue;\n",
        "  bool deckHasCard;\n",
        "} CardInfo;\n",
        "\n",
        "// Initalizing a Struct\n",
        "struct CardInfo myCardInfo;\n",
        "myCardInfo.cardSuite = 'H';\n",
        "myCardInfo.cardValue = 5;\n",
        "myCardInfo.deckHasCard = false;\n",
        "```\n",
        "\n",
        "Typedef struct: \n",
        "```\n",
        "// Declaring & Defining a Struct\n",
        "typedef struct {\n",
        "  char cardSuite;\n",
        "  int cardValue;\n",
        "  bool deckHasCard;\n",
        "} CardInfo;\n",
        "\n",
        "// Initalizing a Struct\n",
        "CardInfo myCardInfo ={.cardSuite = 'H', .cardValue = 5, .deckHasCard = false};\n",
        "```"
      ]
    },
    {
      "cell_type": "markdown",
      "metadata": {
        "id": "KG_jm5067-O0"
      },
      "source": [
        "### C strings"
      ]
    },
    {
      "cell_type": "markdown",
      "metadata": {
        "id": "Nr9Tom1A8PV-"
      },
      "source": [
        "How long is the string (really?)"
      ]
    },
    {
      "cell_type": "code",
      "execution_count": null,
      "metadata": {
        "colab": {
          "base_uri": "https://localhost:8080/"
        },
        "id": "qldb6ySk8V4_",
        "outputId": "9546aa61-471e-4ebf-9a3d-e5f3abd25776"
      },
      "outputs": [],
      "source": [
        "%%writefile cStr.cpp\n",
        "\n",
        "// The C standard library\n",
        "#include <cstdio>\n",
        "#include <cstring>\n",
        "\n",
        "int main() {\n",
        "\n",
        "  const char mystery[] = {'h', 'e', 'l', 'l', '0', '\\0', 'N', 'Y', 'C'};\n",
        "  int mysteryLen = strlen(mystery);\n",
        "\n",
        "  printf(\"Length of %s is %d.\", mystery, mysteryLen);\n",
        "\n",
        "  return 0;\n",
        "}"
      ]
    },
    {
      "cell_type": "code",
      "execution_count": null,
      "metadata": {
        "colab": {
          "base_uri": "https://localhost:8080/"
        },
        "id": "ZWmGES2r8Cb0",
        "outputId": "5f38a491-0161-4307-e56f-2d1d87e2a4f4"
      },
      "outputs": [],
      "source": [
        "%%bash\n",
        "\n",
        "g++ cStr.cpp -o cStr\n",
        "./cStr"
      ]
    },
    {
      "cell_type": "markdown",
      "metadata": {
        "id": "A3o7nt19-SuS"
      },
      "source": [
        "Common C string operations\n",
        "```\n",
        "size_t strlen ( const char * str );\n",
        "char * strncpy ( char * destination, const char * source, size_t num );\n",
        "int strcmp ( const char * str1, const char * str2 );\n",
        "```"
      ]
    },
    {
      "cell_type": "markdown",
      "metadata": {
        "id": "uIqEn-0s_C_X"
      },
      "source": [
        "Don't willingly use C strings. It makes everyone sad :(\n",
        "\n",
        "Including you :((((\n",
        "\n",
        "Instead, use `std::string` from the `string` library.\n",
        "\n",
        "However, you should remember that strings are just an array of characters terminated by a `\\0` character. Under the hood, `std::string` is just a C string that protects you from doing something stupid.\n",
        "\n",
        "If you copy a `std::string` using the `=` operator, then something like `strncpy` is still occuring!\n"
      ]
    },
    {
      "cell_type": "markdown",
      "metadata": {
        "id": "AuxpgpUTA-ML"
      },
      "source": [
        "### Demo, Part 4"
      ]
    },
    {
      "cell_type": "code",
      "execution_count": null,
      "metadata": {
        "colab": {
          "base_uri": "https://localhost:8080/"
        },
        "id": "3ySbrNBGBCk1",
        "outputId": "526ae6e3-fc17-451d-b236-219b19c586df"
      },
      "outputs": [],
      "source": [
        "%%writefile studentStruct.cpp\n",
        "\n",
        "#include <cstdio>\n",
        "#include <cstring>\n",
        "\n",
        "// Structs are a good way to organize related information!\n",
        "// TODO: Write a struct called \"StudentInfo\" which contains the following info:\n",
        "//       * char array of size 30 called \"name\"\n",
        "//       * uint8_t called \"age\"\n",
        "//       * bool called \"isGoodStudent\"\n",
        "// HINT: use \"typedef\" so you can use \"StudentInfo\" instead of \"struct StudentInfo\"\n",
        "\n",
        "\n",
        "\n",
        "void allAboutYou(StudentInfo info);\n",
        "\n",
        "void allAboutYou(StudentInfo info) {\n",
        "  printf(\"Hello! My name is %s\\n\", info.name);\n",
        "  printf(\"I am %d years old!\\n\", info.age);\n",
        "  printf(\"I am %s a good student!\\n\", (info.isGoodStudent ? \"\" : \"not \"));\n",
        "}\n",
        "\n",
        "int main() {\n",
        "  StudentInfo info;\n",
        "\n",
        "  // TODO: Now that you have created the StudentInfo struct, fill out the name, age, and isGoodStudent fields!\n",
        "  //     HINT: This is a rude introduction to C strings. Look up strncpy, strlen!\n",
        "\n",
        "\n",
        "\n",
        "  allAboutYou(info);\n",
        "\n",
        "  return 0;\n",
        "}"
      ]
    },
    {
      "cell_type": "code",
      "execution_count": null,
      "metadata": {
        "colab": {
          "base_uri": "https://localhost:8080/"
        },
        "id": "G1OJegM2Bouw",
        "outputId": "31b300d0-d42e-4add-e07b-4edd2ef5007d"
      },
      "outputs": [],
      "source": [
        "%%bash\n",
        "\n",
        "g++ studentStruct.cpp -o studentStruct\n",
        "./studentStruct"
      ]
    }
  ],
  "metadata": {
    "colab": {
      "provenance": []
    },
    "kernelspec": {
      "display_name": "Python 3.10.4 64-bit",
      "language": "python",
      "name": "python3"
    },
    "language_info": {
      "name": "python",
      "version": "3.10.6"
    },
    "vscode": {
      "interpreter": {
        "hash": "916dbcbb3f70747c44a77c7bcd40155683ae19c65e1c03b4aa3499c5328201f1"
      }
    }
  },
  "nbformat": 4,
  "nbformat_minor": 0
}
