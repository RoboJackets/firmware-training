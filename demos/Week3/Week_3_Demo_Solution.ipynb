{
  "cells": [
    {
      "cell_type": "markdown",
      "metadata": {
        "id": "wyA7ZpN_GUF2"
      },
      "source": [
        "## Binary"
      ]
    },
    {
      "cell_type": "markdown",
      "metadata": {
        "id": "Yyi-v_-szhtE"
      },
      "source": [
        "\n",
        "\n",
        "* Binary Number: A number expressed in Base 2 (usually 0 and 1). The first couple binary numbers are:\n",
        "\n",
        " 0 --> 0b0000\n",
        " \n",
        " 1 --> 0b0001\n",
        " \n",
        " 2 --> 0b0010\n",
        " \n",
        " 3 --> 0b0011\n",
        " \n",
        " 4 --> 0b0100\n",
        " \n",
        " 5 --> 0b0101\n",
        "\n",
        "* Computers store information in binary.\n",
        "\n",
        "* To write a binary number in C++, use the \"0b\" prefix. \n",
        " \n",
        "* To convert from binary to decimal: \n",
        " \n",
        " 0b11001010 = 1 * 2 <sup>7</sup> + 1 * 2<sup>6</sup> + 0 * 2<sup>5</sup> + 0 * 2<sup>4</sup> + 1 * 2<sup>3</sup> + 0 * 2<sup>2</sup> + 1 * 2<sup>1</sup> + 0 * 2<sup>0</sup> = 128 + 64 + 0 + 0 + 8 + 0 + 2 + 0 = 202"
      ]
    },
    {
      "cell_type": "code",
      "execution_count": null,
      "metadata": {
        "colab": {
          "base_uri": "https://localhost:8080/"
        },
        "id": "90x0nPh3z5xo",
        "outputId": "30b2e34e-908b-4a50-ebf3-643612bfe305"
      },
      "outputs": [],
      "source": [
        "%%writefile binaryNumbers.cpp\n",
        "\n",
        "#include <iostream>\n",
        "#include <bitset>\n",
        "\n",
        "int main() {\n",
        "    \n",
        "  // What's 57 in binary?\n",
        "  std::cout << \"57 in binary is: 0b\" << std::bitset<8>(57) << std::endl;\n",
        "\n",
        "  // What's 255 in binary?\n",
        "  std::cout << \"255 in binary is: 0b\" << std::bitset<16>(255) << std::endl;\n",
        "\n",
        "  // What's -255 in binary? (2's complement)\n",
        "  std::cout << \"255 in binary is: 0b\" << std::bitset<16>(-255) << std::endl << std::endl;\n",
        "\n",
        "  // TODO: Write 99 in binary (show calculator method)\n",
        "  int binNum = 0b1100011;\n",
        "  std::cout << ((binNum == 99) ? \"(1) Correct!\" : \"(1) Wrong!\") << std::endl;\n",
        "\n",
        "  // TODO: Write 0b01001100 in decimal (show calculator method)\n",
        "  int decNum = 76;\n",
        "  std::cout << ((decNum == 76) ? \"(2) Correct!\" : \"(2) Wrong!\") << std::endl;\n",
        "\n",
        "  return 0;\n",
        "}"
      ]
    },
    {
      "cell_type": "code",
      "execution_count": null,
      "metadata": {
        "colab": {
          "base_uri": "https://localhost:8080/"
        },
        "id": "m7zITKvWz7QE",
        "outputId": "4edc6c71-3fdb-4a85-b6da-3f10f4948d9c"
      },
      "outputs": [],
      "source": [
        "%%bash\n",
        "\n",
        "g++ binaryNumbers.cpp -o binaryNumbers\n",
        "./binaryNumbers"
      ]
    },
    {
      "cell_type": "markdown",
      "metadata": {
        "id": "JQPJq0-1GY73"
      },
      "source": [
        "## Hexadecimal"
      ]
    },
    {
      "cell_type": "markdown",
      "metadata": {
        "id": "ikciCOO-zoJj"
      },
      "source": [
        "\n",
        "\n",
        "* Hexadecimal Number: A number expressed in Base 16. The first 16 binary numbers are:\n",
        "\n",
        "0 --> 0b0000 --> 0x0\n",
        "\n",
        "1 --> 0b0001 --> 0x1\n",
        "\n",
        "2 --> 0b0010 --> 0x2\n",
        "\n",
        "3 --> 0b0011 --> 0x3\n",
        "\n",
        "4 --> 0b0100 --> 0x4\n",
        "\n",
        "5 --> 0b0101 --> 0x5\n",
        "\n",
        "6 --> 0b0110 --> 0x6\n",
        "\n",
        "7 --> 0b0111 --> 0x7\n",
        "\n",
        "8 --> 0b1000 --> 0x8\n",
        "\n",
        "9 --> 0b1001 --> 0x9\n",
        "\n",
        "10 --> 0b1010 --> 0xA\n",
        "\n",
        "11 --> 0b1011 --> 0xB\n",
        "\n",
        "12 --> 0b1100 --> 0xC\n",
        "\n",
        "13 --> 0b1101 --> 0xD\n",
        "\n",
        "14 --> 0b1110 --> 0xE\n",
        "\n",
        "15 --> 0b1111 --> 0xF\n",
        "\n",
        "* Computers do NOT store information in hexadecimal; hexidecimal is just a more human-readable format for binary. \n",
        "* To write a number in hexadecimal, use the \"0x\" prefix."
      ]
    },
    {
      "cell_type": "code",
      "execution_count": null,
      "metadata": {
        "colab": {
          "base_uri": "https://localhost:8080/"
        },
        "id": "S88gm-s42LXj",
        "outputId": "b02faeed-ed08-4f6b-86a0-021b8eb196ef"
      },
      "outputs": [],
      "source": [
        "%%writefile hexNumbers.cpp\n",
        "\n",
        "#include <iostream>\n",
        "#include <bitset>\n",
        "\n",
        "int main() {\n",
        "    \n",
        "  // What's 57 in hexidecimal?\n",
        "  std::cout << \"57 in hex is: 0x\" << std::hex << 57 << std::endl << std::endl;\n",
        "\n",
        "  // (3) Write 99 in hex.\n",
        "  //     Method 1: calculator method\n",
        "  //     Method 2: Write in binary, break up into groups of 4, translate groups into hex.\n",
        "\n",
        "  // 0b0110 0011\n",
        "\n",
        "  int hexNum = 0x63;\n",
        "  std::cout << ((hexNum == 99) ? \"(3) Correct!\" : \"(3) Wrong!\") << std::endl;\n",
        "\n",
        "  return 0;\n",
        "}"
      ]
    },
    {
      "cell_type": "code",
      "execution_count": null,
      "metadata": {
        "colab": {
          "base_uri": "https://localhost:8080/"
        },
        "id": "6dXcy7Al2SmV",
        "outputId": "c687091a-47ed-4206-900b-8fcc28c16303"
      },
      "outputs": [],
      "source": [
        "%%bash\n",
        "\n",
        "g++ hexNumbers.cpp -o hexNumbers\n",
        "./hexNumbers"
      ]
    },
    {
      "cell_type": "markdown",
      "metadata": {
        "id": "ONzR5LJDGf3I"
      },
      "source": [
        "## Bitwise operators and Masking"
      ]
    },
    {
      "cell_type": "markdown",
      "metadata": {
        "id": "c4l4mOwzzwxi"
      },
      "source": [
        "Here are some bitwise operators you should know about:\n",
        "* AND:  &\n",
        "* OR:   |\n",
        "* XOR:  ^\n",
        "* NOT:  ~\n",
        "* Left Shift: <<\n",
        "* Right Shift: >>"
      ]
    },
    {
      "cell_type": "code",
      "execution_count": null,
      "metadata": {
        "id": "P5stdbMS49lD"
      },
      "outputs": [],
      "source": [
        "%%writefile bitwiseOperators.cpp\n",
        "\n",
        "#include <iostream>\n",
        "#include <bitset>\n",
        "\n",
        "void printUnaryOp(int a, char op, int res);\n",
        "void printBinaryOp(int a, int b, char op, int res);\n",
        "void printShift(bool isShiftRight, int num);\n",
        "\n",
        "void printUnaryOp(int a, char op, int res) {\n",
        "  std::cout << op << \" \" << std::bitset<8>(a) << std::endl;\n",
        "  std::cout << \"~~~~~~~~~~\" << std::endl;\n",
        "  std::cout << \"  \" << std::bitset<8>(res) << std::endl << std::endl;\n",
        "}\n",
        "\n",
        "void printBinaryOp(int a, int b, char op, int res) {\n",
        "  std::cout << \"  \" << std::bitset<8>(a) << std::endl;\n",
        "  std::cout << op << \" \" << std::bitset<8>(b) << std::endl;\n",
        "  std::cout << \"~~~~~~~~~~\" << std::endl;\n",
        "  std::cout << \"  \" << std::bitset<8>(res) << std::endl << std::endl;\n",
        "}\n",
        "\n",
        "void printShift(int a, bool isShiftRight, int num) {\n",
        "  if (isShiftRight) {\n",
        "    std::cout << \"  \" << std::bitset<8>(a) << \" (\" << a << \") \"\n",
        "      << \" >> \" << num << \" ==> \" \n",
        "      << std::bitset<8>(a << num) << \" (\" << (a << num) << \") \" << std::endl;\n",
        "  } else {\n",
        "    std::cout << \"  \" << std::bitset<8>(a) << \" (\" << a << \") \"\n",
        "      << \" << \" << num << \" ==> \" \n",
        "      << std::bitset<8>(a >> num) << \" (\" << (a >> num) << \") \" << std::endl;\n",
        "  }\n",
        "}\n",
        "\n",
        "int main() {\n",
        "\n",
        "  uint8_t a = 0b00110011;\n",
        "  uint8_t b = 0b11110000;\n",
        "\n",
        "  // a & b\n",
        "  printBinaryOp(a, b, '&', a & b);\n",
        "\n",
        "  // a | b\n",
        "  printBinaryOp(a, b, '|', a | b);\n",
        "\n",
        "  // a ^ b\n",
        "  printBinaryOp(a, b, '^', a ^ b);\n",
        "\n",
        "  // ~a\n",
        "  printUnaryOp(a, '~', ~a);\n",
        "\n",
        "  // b << 2\n",
        "  printShift(b, false, 2);\n",
        "\n",
        "  // b >> 2\n",
        "  printShift(b, true, 2);\n",
        "  \n",
        "  return 0;\n",
        "}"
      ]
    },
    {
      "cell_type": "code",
      "execution_count": null,
      "metadata": {
        "id": "wzKlIezf5ox2"
      },
      "outputs": [],
      "source": [
        "%%bash\n",
        "\n",
        "g++ bitwiseOperators.cpp -o bitwiseOperators\n",
        "./bitwiseOperators"
      ]
    },
    {
      "cell_type": "markdown",
      "metadata": {
        "id": "BAzYZXNhr6MJ"
      },
      "source": [
        "## Pointers"
      ]
    },
    {
      "cell_type": "markdown",
      "metadata": {
        "id": "gGcAcN-lJAMm"
      },
      "source": [
        "### What are Pointers?"
      ]
    },
    {
      "cell_type": "markdown",
      "metadata": {
        "id": "C_fKReRAB60s"
      },
      "source": [
        "A pointer is a type of variable that stores a memory address.\n",
        "\n",
        "`int variable` has data type `int`.\n",
        "\n",
        "`int *variable` has data type `pointer to int`.\n",
        "\n",
        "\n"
      ]
    },
    {
      "cell_type": "code",
      "execution_count": null,
      "metadata": {
        "id": "X5glkPJItFHp"
      },
      "outputs": [],
      "source": [
        "%%writefile basicPointers.cpp\n",
        "\n",
        "#include <iostream>\n",
        "#include <bitset>\n",
        "\n",
        "int *pointVar2;\n",
        "\n",
        "void myFunc(int varCopy);\n",
        "void myOtherFunc(int *varCopy);\n",
        "\n",
        "void myFunc(int varCopy) {\n",
        "  int *tempPtr;\n",
        "  tempPtr = &varCopy;\n",
        "\n",
        "  std::cout << \"Value of &tempPtr: \" << &tempPtr << std::endl;\n",
        "  std::cout << \"Value of tempPtr: \" << tempPtr << std::endl;\n",
        "  std::cout << \"Value of *tempPtr: \" << *tempPtr << std::endl;\n",
        "}\n",
        "\n",
        "void myOtherFunc(int *varCopy) {\n",
        "  int *tempPtr;\n",
        "  tempPtr = varCopy;\n",
        "\n",
        "  std::cout << \"Value of &tempPtr: \" << &tempPtr << std::endl;\n",
        "  std::cout << \"Value of tempPtr: \" << tempPtr << std::endl;\n",
        "  std::cout << \"Value of *tempPtr: \" << *tempPtr << std::endl;\n",
        "}\n",
        "\n",
        "int main() {\n",
        "  \n",
        "  int *pointVar1;\n",
        "  int var = 5;\n",
        "\n",
        "  // A pointer is a variable that stores a memory address.\n",
        "  // Using the address-of operator, we can obtain the memory address\n",
        "  // of var and store it inside of pointer variable pointVar1!\n",
        "  //\n",
        "  // TODO 1: What does this do?\n",
        "  // (Uncomment to figure out!)\n",
        "  pointVar1 = &var;\n",
        "  std::cout << \"Value of &pointVar1: \" << &pointVar1 << std::endl;\n",
        "  std::cout << \"Value of pointVar1: \" << pointVar1 << std::endl;\n",
        "  std::cout << \"Value of *pointerVar1: \" << *pointVar1 << std::endl;\n",
        "\n",
        "  // Using the indirection operator, we can read from and write \n",
        "  // to the memory address pointed to by pointVar1.\n",
        "  // \n",
        "  // TODO 2: What does this do?\n",
        "  // (Uncomment to figure out!)\n",
        "  *pointVar1 = 6;\n",
        "  std::cout << \"Value of &pointVar1: \" << &pointVar1 << std::endl;\n",
        "  std::cout << \"Value of pointVar1: \" << pointVar1 << std::endl;\n",
        "  std::cout << \"Value of *pointerVar1: \" << *pointVar1 << std::endl;\n",
        "\n",
        "  // 0 is a Null pointer. You can also use nullptr. \n",
        "  // You cannot read the value of a null pointer (null means it points to nothing).\n",
        "  //\n",
        "  // TODO 3: What does this do?\n",
        "  // (Uncomment to figure out!)\n",
        "  // pointVar1 = 0;\n",
        "  // std::cout << \"Value of &pointVar1: \" << &pointVar1 << std::endl;\n",
        "  // std::cout << \"Value of pointVar1: \" << pointVar1 << std::endl;\n",
        "  // std::cout << \"Value of *pointerVar1: \" << *pointVar1 << std::endl;\n",
        "\n",
        "  // If your pointer points to an \"invalid\" memory address, \n",
        "  // you cannot write to it. \n",
        "  // You also cannot write to memory addresses that are Read-Only (RO).\n",
        "  // \n",
        "  // TODO 4: What does this do?\n",
        "  // (Uncomment to figure out!)\n",
        "  // *pointVar1 = 7;\n",
        "  // std::cout << \"Value of &pointVar1: \" << &pointVar1 << std::endl;\n",
        "  // std::cout << \"Value of pointVar1: \" << pointVar1 << std::endl;\n",
        "  // std::cout << \"Value of *pointerVar1: \" << *pointVar1 << std::endl;\n",
        "\n",
        "  // You can create seperate pointer variables that point to the same thing. \n",
        "  // Notice that the pointer variables are stored in different places.\n",
        "  //\n",
        "  // TODO 5: What does this do?\n",
        "  // (Uncomment to figure out!)\n",
        "  // pointVar2 = &var;\n",
        "  //std::cout << \"Value of &pointVar1: \" << &pointVar2 << std::endl;\n",
        "  //std::cout << \"Value of pointVar2: \" << pointVar2 << std::endl;\n",
        "  //std::cout << \"Value of *pointerVar2: \" << *pointVar2 << std::endl;\n",
        "\n",
        "  // Functions in C++ are pass-by-reference. This means if you pass a variable \n",
        "  // into a function as an argument, its value is copied into the function. \n",
        "  // Therefore, the memory address of a variable passed into a function \n",
        "  // will be different than the memory address of the original variable.\n",
        "  //\n",
        "  // TODO 6: What does this do?\n",
        "  // (Uncomment to figure out!)\n",
        "  //myFunc(var++);\n",
        "\n",
        "  // You can pass a variable by reference by accepting a pointer \n",
        "  // as a function argument. Instead, the address of the variable will \n",
        "  // be copied, and you can you this address to change the  \n",
        "  // value of the original variable.\n",
        "  // \n",
        "  // TODO 7: What does this do?\n",
        "  //myOtherFunc(&var);\n",
        "\n",
        "  return 0;\n",
        "}"
      ]
    },
    {
      "cell_type": "code",
      "execution_count": null,
      "metadata": {
        "id": "uZQSCV8DxaeX"
      },
      "outputs": [],
      "source": [
        "%%bash\n",
        "\n",
        "g++ basicPointers.cpp -o basicPointers\n",
        "./basicPointers"
      ]
    },
    {
      "cell_type": "markdown",
      "metadata": {
        "id": "fBVsn5evC6hA"
      },
      "source": [
        "1. A pointer is a variable that stores a memory address.\n",
        "Using the `address-of` operator, we can obtain the memory address of `var` and store it inside of pointer variable `pointVar1`!\n",
        "\n",
        "2. Using the `indirection` operator, we can read from and write to the memory address pointed to by `pointVar1`.\n",
        "\n",
        "3. `0` is a Null pointer. You can also use `nullptr`. You cannot read the value of a null pointer (null means it points to nothing).\n",
        "\n",
        "4. If your pointer points to an \"invalid\" memory address, you cannot\n",
        "write to it. You also cannot write to memory addresses that are Read-Only (RO).\n",
        "\n",
        "5. You can create seperate pointer variables that point to the same thing. Notice that the pointer variables are stored in different places.\n",
        "\n",
        "6. Functions in C++ are pass-by-reference. This means if you pass a variable into a function as an argument, its value is copied into the function. Therefore, the memory address of a variable passed into a function will be different than the memory address of the original variable.\n",
        "\n",
        "7. You can pass a variable by reference by accepting a pointer as a function argument. Instead, the address of the variable will be copied, and you can you this address to change the value of the original variable."
      ]
    },
    {
      "cell_type": "markdown",
      "metadata": {
        "id": "jmtXWusnJHh8"
      },
      "source": [
        "### Basic Pointer Operations"
      ]
    },
    {
      "cell_type": "markdown",
      "metadata": {
        "id": "RxV_yisBYEUf"
      },
      "source": [
        "**The Address-Of Operator**\n",
        "\n",
        "The address-of operator is `&`. Most likely, you will need the address-of operator to initalize pointers. Unless the datasheet tells you a specific address, it's pratically impossible for a mere human to determine the address of a particular variable. You need help from the compiler!\n",
        "\n",
        "But how does the compiler determine the address? Let's look at an example:\n",
        "```\n",
        "void myFunc(int x, double y) {\n",
        "  int xPtr = &x;\n",
        "  ...\n",
        "  firstFunc(x);\n",
        "  secondFunc(xPtr);\n",
        "  ...\n",
        "}\n",
        "```\n",
        "The local variables in `myFunc` are `x`, `y`, and `xPtr`. All of these variables are going to be saved onto the stack. For variables on the stack, the compiler cannot know their absolute position on the stack (think about a recursive function)! Instead, the compiler knows the relative position of each of the local variables. If `myFunc` is currently executing, it has to be at the top of the stack. Since the CPU places parameters onto the stack according to a **calling convention**, the compiler knows where the local variables will be *relative to the top of the stack!* Therefore, the compiler will\n",
        "translate `&x` as `top of the stack + some offset`.\n",
        "\n",
        "When using the variable `x` normally, the **compiled program** needs to know that `&x` is `top of the stack + some offset` because it has to go to that memory address to retrive the value of `x`. When using pointers, the programmer learns get this information that is usually hidden from the programmer!"
      ]
    },
    {
      "cell_type": "markdown",
      "metadata": {
        "id": "FLh79FUrJO9_"
      },
      "source": [
        "**Declaring** a pointer:\n",
        "```\n",
        "int *myIntPtr; // pointer to int\n",
        "char * myCharPtr; // pointer to char\n",
        "const char* myConstCharPtr; // point to const char\n",
        "                            // i.e. the thing I'm pointing to is const\n",
        "```\n",
        "\n",
        "**Declaring** then **Initalizing** a pointer.\n",
        "```\n",
        "int x = 42;\n",
        "int *xPtr;\n",
        "xPtr = &x;\n",
        "```\n",
        "\n",
        "**Declaring** and **Initalizing** a pointer:\n",
        "```\n",
        "int a = 5;\n",
        "int *aPtr = &a; // aPtr points to a\n",
        "```\n",
        "```\n",
        "int b = 19;\n",
        "int const *b = &b; // bPtr is a const pointer to b\n",
        "                   // the value of b can change, but bPtr can't\n",
        "                   // point to anything else but b\n",
        "                   // NOTE: const pointers must be declared + initalized. Otherwise, compiler will throw an error.\n",
        "                   \n",
        "```\n",
        "**Q: How do I initalize a pointer?**\n",
        "\n",
        "1. Declare it a `nullptr` (initalize it later!)\n",
        "```\n",
        "double *undecidedPtr1 = nullptr; // use this one\n",
        "double *undecidedPtr1 = NULL;\n",
        "double *undecidedPtr1 = 0;\n",
        "```\n",
        "2. Use the `address-of` operator (let the compiler help you!)\n",
        "```\n",
        "boolean printFlag;\n",
        "boolean *printPtr = &printFlag;\n",
        "```\n",
        "3. Use a fixed address (the datasheet said so)\n",
        "```\n",
        "uint32_t *importantRegister = 0x8000FA10;\n",
        "```\n",
        "4. Dynamic Memory Allocation (the heap has some spare cubby space!)\n",
        "```\n",
        "int *p = new int[10];\n",
        "StudentInfo *studentInfo = new StudentInfo(\"Bob\", 19, \"Male\");\n",
        "```\n",
        "\n",
        "**The Dereference Operator**\n",
        "\n",
        "The dereference operator is `*`. If you have a pointer variable to int `ptr` which points to int `a`, `*ptr` will return the value stored in `a`.\n",
        "\n",
        "**DO NOT GET THIS MIXED UP WITH DECLARING A POINTER!** \n",
        "* The dereference operator only works on a pointer variable that already has been declared + initalized!\n",
        "* When you are declaring a pointer using `*`, you aren't dereferencing anything! `*` just happens to be the syntax that is used to declare a pointer, and has **NOTHING** to do with the act of dereferencing a pointer!\n",
        "* Using `*` to declare a pointer and using `*` to dereference a pointer are 2 entirely different things! **DON'T MIX THEM UP**! "
      ]
    },
    {
      "cell_type": "code",
      "execution_count": null,
      "metadata": {
        "colab": {
          "base_uri": "https://localhost:8080/"
        },
        "id": "QCjv30dVWeVW",
        "outputId": "c1c11cdf-8f67-4b65-d306-be8cbbc442d2"
      },
      "outputs": [],
      "source": [
        "%%writefile dereferencing.cpp\n",
        "\n",
        "#include <iostream>\n",
        "\n",
        "int main() {\n",
        "  int a = 5;\n",
        "  int *aPtr = &a;\n",
        "\n",
        "  std::cout << \"a: \" << a << \" @ \" << &a << std::endl;\n",
        "  std::cout << \"aPtr: \" << aPtr << \" @ \" << &aPtr << std::endl;\n",
        "  std::cout << \"*aPtr: \" << *aPtr << std::endl;\n",
        "}"
      ]
    },
    {
      "cell_type": "code",
      "execution_count": null,
      "metadata": {
        "colab": {
          "base_uri": "https://localhost:8080/"
        },
        "id": "gbPacV_DXSDo",
        "outputId": "7e5c87fb-d0a9-4773-fcb5-387ec4783d37"
      },
      "outputs": [],
      "source": [
        "%%bash\n",
        "\n",
        "g++ dereferencing.cpp -o dereferencing\n",
        "./dereferencing"
      ]
    },
    {
      "cell_type": "markdown",
      "metadata": {
        "id": "Q8lxcZQECHt_"
      },
      "source": [
        "## Applications of Pointers"
      ]
    },
    {
      "cell_type": "markdown",
      "metadata": {
        "id": "XO-3nBpQE_tp"
      },
      "source": [
        "### Pass by Reference\n",
        "\n",
        "C++ uses **pass by value**, meaning that when you pass function arguments into a function, the value of each argument is **copied** into the function's arguments. \n",
        "\n",
        "The key here is the **copying**. The value of each argument is copied into the function's arguments, meaning that if the function alters the\n",
        "values of its arguments, the value of the original argument you passed don't change."
      ]
    },
    {
      "cell_type": "code",
      "execution_count": null,
      "metadata": {
        "colab": {
          "base_uri": "https://localhost:8080/"
        },
        "id": "0WxhTUrTH9ep",
        "outputId": "2d6ca408-9306-4618-fc54-d4441a9d863f"
      },
      "outputs": [],
      "source": [
        "%%writefile pass_by_ref.cpp\n",
        "\n",
        "#include <iostream>\n",
        "\n",
        "int add5(int x);\n",
        "\n",
        "int add5(int x) {\n",
        "  return x += 5;\n",
        "}\n",
        "\n",
        "int main() {\n",
        "  int myX = 10;\n",
        "\n",
        "  std::cout << \"myX, before: \" << myX << std::endl;\n",
        "\n",
        "  int returnVal = add5(myX);\n",
        "\n",
        "  std::cout << \"myX, after: \" << myX << std::endl;\n",
        "  std::cout << \"returnVal: \" << returnVal << std::endl;\n",
        "}"
      ]
    },
    {
      "cell_type": "code",
      "execution_count": null,
      "metadata": {
        "colab": {
          "base_uri": "https://localhost:8080/"
        },
        "id": "aw7S32loISjc",
        "outputId": "3d8e6a60-ca8b-41ce-827d-8e7b2ef83f9a"
      },
      "outputs": [],
      "source": [
        "%%bash\n",
        "\n",
        "g++ pass_by_ref.cpp -o pass_by_ref\n",
        "./pass_by_ref"
      ]
    },
    {
      "cell_type": "markdown",
      "metadata": {
        "id": "fU_7YZIkkOpr"
      },
      "source": [
        "To do **pass by value**, we pass in a pointer argument instead of a normal argument!"
      ]
    },
    {
      "cell_type": "code",
      "execution_count": null,
      "metadata": {
        "colab": {
          "base_uri": "https://localhost:8080/"
        },
        "id": "B89vrwEfkvy3",
        "outputId": "d50bdf28-edfb-4a75-e826-a942af1f1b6a"
      },
      "outputs": [],
      "source": [
        "%%writefile pass_by_val.cpp\n",
        "\n",
        "#include <iostream>\n",
        "\n",
        "int add5(int *x);\n",
        "\n",
        "int add5(int *x) {\n",
        "  *x += 5;\n",
        "}\n",
        "\n",
        "int main() {\n",
        "  int myX = 10;\n",
        "\n",
        "  std::cout << \"myX, before: \" << myX << std::endl;\n",
        "\n",
        "  add5(&myX);\n",
        "\n",
        "  std::cout << \"myX, after: \" << myX << std::endl;\n",
        "}"
      ]
    },
    {
      "cell_type": "code",
      "execution_count": null,
      "metadata": {
        "colab": {
          "base_uri": "https://localhost:8080/"
        },
        "id": "wmQqMPuTlB1w",
        "outputId": "c2d65f27-2aab-4079-971c-c59667de1a0c"
      },
      "outputs": [],
      "source": [
        "%%bash\n",
        "\n",
        "g++ pass_by_val.cpp -o pass_by_val\n",
        "./pass_by_val"
      ]
    },
    {
      "cell_type": "markdown",
      "metadata": {
        "id": "COgEnq61lGce"
      },
      "source": [
        "**NOTE**: \"Pass by reference\" is still \"pass by value\", meaning that we are still copying the pointer variable. However, the original pointer variable and the pointer variable copy still point to the same thing."
      ]
    },
    {
      "cell_type": "markdown",
      "metadata": {
        "id": "50CLFjEAmE5A"
      },
      "source": [
        "### Returning a Pointer Object\n",
        "\n",
        "You can also return a pointer object! At least I think we can..."
      ]
    },
    {
      "cell_type": "code",
      "execution_count": null,
      "metadata": {
        "colab": {
          "base_uri": "https://localhost:8080/"
        },
        "id": "l3xIiHN5mhwe",
        "outputId": "2d6bac2f-d113-42e2-8c5b-09d21726caf7"
      },
      "outputs": [],
      "source": [
        "%%writefile oops1.cpp\n",
        "\n",
        "#include <iostream>\n",
        "\n",
        "int *createArray(int size);\n",
        "\n",
        "int *createArray(int size) {\n",
        "  int arr[size];\n",
        "  int *p = 0;\n",
        "  for (int i = 0; i < 10; i++) {\n",
        "    arr[i] = i;\n",
        "  }\n",
        "\n",
        "  p = arr;\n",
        "\n",
        "  return p;\n",
        "}\n",
        "\n",
        "int main() {\n",
        "  int mySize = 7;\n",
        "\n",
        "  std::cout << \"Creating array of size \" << mySize << \"...\" << std::endl;\n",
        "\n",
        "  int *arrPtr = createArray(mySize);\n",
        "\n",
        "  std::cout << \"arrPtr: \" << arrPtr << std::endl;\n",
        "  std::cout << \"arrPtr[1]: \" << arrPtr[1] << std::endl;\n",
        "}"
      ]
    },
    {
      "cell_type": "code",
      "execution_count": null,
      "metadata": {
        "colab": {
          "base_uri": "https://localhost:8080/"
        },
        "id": "e2HelgtjoQee",
        "outputId": "66e5ca17-182b-450c-a112-400493e4b1b3"
      },
      "outputs": [],
      "source": [
        "%%bash\n",
        "\n",
        "g++ oops1.cpp -o oops1\n",
        "./oops1"
      ]
    },
    {
      "cell_type": "markdown",
      "metadata": {
        "id": "79Zz0ME5s6mx"
      },
      "source": [
        "What happened? Well, we returned a pointer to a local variable **which goes out of scope!** We allocated space for `arr` inside `createArr` on the stack, but we then de-allocate `arr` once we leave `createArr`. Therefore, if we try and de-reference `arrPtr` which points to `arr`, we run into issues, since we don't own the memory anymore!\n",
        "\n",
        "This pitfall is called a **dangling pointer**. \n",
        "\n",
        "\"With great power comes great responsiblity\". Pointers are powerful, but that also means YOU (the programmer) are now responsible for them. Namely, YOU have to make sure your pointers are not dangling pointers (i.e. pointing to invalid data)!\n",
        "\n",
        "So lets suppose you want to make a function `int *createArray(int size)`. What are some alternative implementations?\n",
        "* Make `arr` `static`: \n",
        "  * `static` puts `arr` in `static` memory instead of on the heap, so it won't be destroyed when you exit `createArray`.\n",
        "  * Ultimately, it won't work, since you must allocate a fixed amount of space in static memory.\n",
        "  * Regardless, still a bad idea. `arr` is supposed to be a local variable, accessing `arr` like this is not intuitive at all.\n",
        "* Create a class, make `arr` a class member, and return a pointer to that.\n",
        "  * This will work...\n",
        "  * ...but it's still a bad idea. Because once the class object gets destroyed, then `arrPtr` becomes invalid!\n",
        "* Return a pointer to an integer array on the heap.\n",
        "  * The correct answer.\n",
        "  * Common understanding that when you are done with memory on the heap, you `delete` it."
      ]
    },
    {
      "cell_type": "markdown",
      "metadata": {
        "id": "JeG4wor11L_a"
      },
      "source": [
        "## My Advice for Using Pointers\n",
        "\n",
        "* If you are starting out with firmware, DO NOT USE POINTERS! If you are practicing, fine. But if you want to write firmware that works, actively avoid using pointers at first. \n",
        "* Eventually, you will run into library functions that require you to use pointers. That will be a learning experience, but you will understand when it's appropriate to use pointers.\n",
        "* When you get enough experience using pointers through library functions, you will start to see opportunities to use pointers on your own. Then, you can utilize the power of the pointer.\n",
        "\n",
        "It's more important to understand WHEN to use pointers (or any feature of the language, for that matter). Most of the time, it will boil down to using pass by reference in some form or another. However, here are some more advanced usages:\n",
        "* dynamic memory allocation\n",
        "* multiple indirection (pointers to pointers)\n",
        "* Function pointers\n",
        "* void pointers\n",
        "* const pointers\n",
        "\n",
        "It's also worth mentioning that C++ offers a safer version of the pointer called a reference. References enable the pass-by-reference capability that you can do with pointers. Unlike pointers, you don't need to use the dereference operator to get the value pointed to by the reference; using the reference variable directly will yield the value. Under the hood, references are still pointers. However, there are some guardrails so you don't do something stupid."
      ]
    }
  ],
  "metadata": {
    "colab": {
      "collapsed_sections": [
        "wyA7ZpN_GUF2",
        "Yyi-v_-szhtE",
        "JQPJq0-1GY73",
        "ikciCOO-zoJj",
        "ONzR5LJDGf3I"
      ],
      "provenance": []
    },
    "kernelspec": {
      "display_name": "Python 3.10.6 64-bit",
      "language": "python",
      "name": "python3"
    },
    "language_info": {
      "name": "python",
      "version": "3.10.6"
    },
    "vscode": {
      "interpreter": {
        "hash": "916dbcbb3f70747c44a77c7bcd40155683ae19c65e1c03b4aa3499c5328201f1"
      }
    }
  },
  "nbformat": 4,
  "nbformat_minor": 0
}
