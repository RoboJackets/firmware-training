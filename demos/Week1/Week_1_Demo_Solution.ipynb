{
  "cells": [
    {
      "cell_type": "markdown",
      "metadata": {
        "id": "M8AoKc-YofSA"
      },
      "source": [
        "# Week 1"
      ]
    },
    {
      "cell_type": "markdown",
      "metadata": {
        "id": "1lbYclUZn-Eo"
      },
      "source": [
        "## Typing for Coding\n",
        "\n",
        "* In C / C++, '//' is a comment. The compiler ignores this!\n",
        "* CTRL + Left / Right Arrow Key: Jump Forward / Back a word.\n",
        "* CTRL + Backspace: Delete previous word (in Linux terminal, its CTRL + w instead)\n",
        "* CTRL + /: Comment out current line. If you highlight a larger block of text with your mouse, CTRL + / \n",
        "will comment out the whole block!\n",
        "\n",
        "There are obviously more keyboard shortcuts that these. But if you are obsessed with peak efficiency, \n",
        "go be a vimChad in the corner over there. There. I said it."
      ]
    },
    {
      "cell_type": "markdown",
      "metadata": {
        "id": "ujAgFpyLouG3"
      },
      "source": [
        "## How to use this Demo\n",
        "\n",
        "This is a Jupyter Notebook. Obviously, Jupyter notebooks are meant for Python, not C++. However, Google Colab seamlessly integrates text with a fully functional Linux environment. Therefore, we can still write C++ code, compile it, and execute it!"
      ]
    },
    {
      "cell_type": "markdown",
      "metadata": {
        "id": "iR83YdNPj7Hk"
      },
      "source": [
        "Writing C++ for this demo has 2 parts:\n",
        "* creating a file\n",
        "* compiling and executing the compiled code\n",
        "\n",
        "The code block below first writes the file. The `%%writefile hello_world.cpp` command tells Google Colab to create a file called `hello_world.cpp`.\n",
        "\n",
        "First, run this cell by hitting \"CTRL + Enter\" or by pressing the \"Play\" button. Then, if you click on the file icon on the left, you will see a \"hello_world.cpp\" file there!"
      ]
    },
    {
      "cell_type": "code",
      "execution_count": null,
      "metadata": {
        "colab": {
          "base_uri": "https://localhost:8080/"
        },
        "id": "rTjyi-pqp1OA",
        "outputId": "f3254ef1-a329-4ca5-cc60-2ff5663744fe"
      },
      "outputs": [],
      "source": [
        "%%writefile hello_world.cpp\n",
        "\n",
        "#include <iostream>\n",
        "\n",
        "int main() {\n",
        "  std::cout << \"Hello World!\" << std::endl;\n",
        "  return 0;\n",
        "}"
      ]
    },
    {
      "cell_type": "markdown",
      "metadata": {
        "id": "qyHMmN4Rj508"
      },
      "source": [
        "The second step is to compile and run your code. There are two places where things can go wrong: compilation and execution.\n",
        "\n",
        "A compilation error occurs when the compiler is unable to compile your code. Most of the time, a compilation error indicates that you violated a rule of C++. For example, you may have forgotten to end one of your lines in a semicolon or forgot to close a curly brace. You can tell if its a compiler error if the terminal mentions g++, the compiler we are using.\n",
        "\n",
        "A runtime error occurs when your program does something improper while its being executed. Common infractions are dividing by zero or writing to an unauthorized memory location. You can tell if its a runtime error if the terminal mentions the name of your program."
      ]
    },
    {
      "cell_type": "code",
      "execution_count": null,
      "metadata": {
        "colab": {
          "base_uri": "https://localhost:8080/"
        },
        "id": "SiQ-eccnh4lO",
        "outputId": "980ce7a9-5e01-4981-c495-82883441d9c2"
      },
      "outputs": [],
      "source": [
        "%%bash\n",
        "\n",
        "g++ hello_world.cpp -o hello_world\n",
        "./hello_world"
      ]
    },
    {
      "cell_type": "markdown",
      "metadata": {
        "id": "aqhh_ioameET"
      },
      "source": [
        "## Variable Types\n",
        "\n",
        "Complete all of the instrucions listed in the comments. Then, try compiling and running you code!"
      ]
    },
    {
      "cell_type": "code",
      "execution_count": null,
      "metadata": {
        "colab": {
          "base_uri": "https://localhost:8080/"
        },
        "id": "JklX2ZBBmgyr",
        "outputId": "2cdf2699-e083-45c4-d20a-5c107a22a2af"
      },
      "outputs": [],
      "source": [
        "%%writefile variables.cpp\n",
        "\n",
        "#include <iostream>\n",
        "#include <string>\n",
        "\n",
        "int main() {\n",
        "    \n",
        "  // Create an INTEGER named 'myInt', assign it a value '-17'\n",
        "  int myInt = -17;\n",
        "  // Create a DOUBLE named 'myDouble', assign it a value '1.23'\n",
        "  double myDouble = 1.23;\n",
        "  //Create a CHARACTER named 'myChar', assign it a value 'c'\n",
        "  char myChar = 'c';\n",
        "  // Create a std::STRING named 'myString', assign it a value \"Hello World!\" \n",
        "  std::string myString = \"Hello World!\";\n",
        "  // Create a BOOLEAN named 'myBool', assign it a value 'false'\n",
        "  bool myBool = false;\n",
        "\n",
        "  // DO NOT EDIT!\n",
        "  std::cout << \"This is an integer: \" << myInt << std::endl;\n",
        "  std::cout << \"This is a double: \" << myDouble << std::endl;\n",
        "  std::cout << \"This is a character: \" << myChar << std::endl;\n",
        "  std::cout << \"This is a string: \" << myString << std::endl;\n",
        "  std::cout << \"This is a bool: \" << myBool << std::endl;\n",
        "\n",
        "  return 0;\n",
        "}"
      ]
    },
    {
      "cell_type": "code",
      "execution_count": null,
      "metadata": {
        "colab": {
          "base_uri": "https://localhost:8080/"
        },
        "id": "UL7xYQfpnQbz",
        "outputId": "2d8b5d26-adba-4fbb-d8c0-5c2f381bfd00"
      },
      "outputs": [],
      "source": [
        "%%bash\n",
        "\n",
        "g++ variables.cpp -o variables\n",
        "./variables"
      ]
    },
    {
      "cell_type": "markdown",
      "metadata": {
        "id": "IJ9lWoTSnhqe"
      },
      "source": [
        "## Arithmetic"
      ]
    },
    {
      "cell_type": "code",
      "execution_count": null,
      "metadata": {
        "colab": {
          "base_uri": "https://localhost:8080/"
        },
        "id": "77TaPtNvni-r",
        "outputId": "4a1e6434-5e30-47a4-f8d9-82e0fe1142c7"
      },
      "outputs": [],
      "source": [
        "%%writefile arithmetic.cpp\n",
        "\n",
        "#include <iostream>\n",
        "#include <string>\n",
        "\n",
        "int main() {\n",
        "    \n",
        "  int a = 8;\n",
        "  int b = 3;\n",
        "\n",
        "  // Create an INTEGER named 'mySum', assign it to the sum of a and b\n",
        "  int mySum = a + b;\n",
        "  // Create an INTEGER named 'myDiff', assign it to the difference of a and b\n",
        "  int myDiff = a - b;\n",
        "  // Create an INTEGER named 'myDiff', assign it to the product of a and b\n",
        "  int myProd = a * b;\n",
        "  // Create an INTEGER named 'myQuot', assign it to the quotient of a and b\n",
        "  int myQuot = a / b;\n",
        "  // Create an INTEGER named 'myMod', assign it to the modulo of a and b\n",
        "  int myMod = a % b;\n",
        "\n",
        "  // DO NOT EDIT!\n",
        "\n",
        "  std::cout << \"a = \" << a << \", b = \" << b << std::endl;\n",
        "  std::cout << \"Sum:        \" << mySum << std::endl;\n",
        "  std::cout << \"Difference: \" << myDiff << std::endl;\n",
        "  std::cout << \"Product:    \" << myProd << std::endl;\n",
        "  std::cout << \"Quotient:   \" << myQuot << std::endl;\n",
        "  std::cout << \"Modulo:     \" << myMod << std::endl;\n",
        "\n",
        "  return 0;\n",
        "}"
      ]
    },
    {
      "cell_type": "code",
      "execution_count": null,
      "metadata": {
        "colab": {
          "base_uri": "https://localhost:8080/"
        },
        "id": "AKQi129SnyG-",
        "outputId": "e04cad16-afe2-468f-cc3c-99a7a54e1532"
      },
      "outputs": [],
      "source": [
        "%%bash\n",
        "\n",
        "g++ arithmetic.cpp -o arithmetic\n",
        "./arithmetic"
      ]
    },
    {
      "cell_type": "markdown",
      "metadata": {
        "id": "gBdyeDqUn649"
      },
      "source": [
        "## Relational Operators"
      ]
    },
    {
      "cell_type": "code",
      "execution_count": null,
      "metadata": {
        "colab": {
          "base_uri": "https://localhost:8080/"
        },
        "id": "OcEjALGin8eO",
        "outputId": "cf5d3a69-c906-4192-eb78-664ec73b2a33"
      },
      "outputs": [],
      "source": [
        "%%writefile isEqual.cpp\n",
        "\n",
        "#include <iostream>\n",
        "#include <string>\n",
        "\n",
        "int main() {\n",
        "    \n",
        "  int x = 4;\n",
        "  int y = 2;\n",
        "  int z = 0b0100;\n",
        "\n",
        "  //Create a BOOLEAN named 'equals', assign it to the result of x equals y\n",
        "  bool equals = (x == y);\n",
        "  //Create a BOOLEAN named 'notEquals', assign it to the result of x not equals y\n",
        "  bool notEquals = (x != z);\n",
        "  //Create a BOOLEAN named 'greaterThan', assign it to the result of x greater than y\n",
        "  bool greaterThan = x > y;\n",
        "  //Create a BOOLEAN named 'lessThan', assign it to the result of x less than y\n",
        "  bool lessThan = x < z;\n",
        "  //Create a BOOLEAN named 'geq', assign it to the result of x greater than or equal to y\n",
        "  bool geq = x >= y;\n",
        "  //Create a BOOLEAN named 'leq', assign it to the result of x less than or equal to z\n",
        "  bool leq = x <= z;\n",
        "\n",
        "  // DO NOT EDIT!\n",
        "  std::cout << \"x = \" << x << \", y = \" << y << \", z = \" << z << std::endl;\n",
        "  std::cout << \"x equal to y? \" << equals << std::endl;\n",
        "  std::cout << \"x not equal to z? \" << notEquals << std::endl;\n",
        "  std::cout << \"x greater than y? \" << greaterThan << std::endl;\n",
        "  std::cout << \"x less than z? \" << lessThan << std::endl;\n",
        "  std::cout << \"x greater than or equal to y? \" << geq << std::endl;\n",
        "  std::cout << \"x less than or equal to z? \" << leq << std::endl;\n",
        "\n",
        "  return 0;\n",
        "}"
      ]
    },
    {
      "cell_type": "code",
      "execution_count": null,
      "metadata": {
        "colab": {
          "base_uri": "https://localhost:8080/"
        },
        "id": "LoAn6IJVoIBt",
        "outputId": "c066b5a1-8ac0-47c4-e7ea-3f60844372c4"
      },
      "outputs": [],
      "source": [
        "%%bash\n",
        "\n",
        "g++ isEqual.cpp -o isEqual\n",
        "./isEqual"
      ]
    },
    {
      "cell_type": "markdown",
      "metadata": {
        "id": "jJXxw62YpK45"
      },
      "source": [
        "## Conditionals (If / Else)"
      ]
    },
    {
      "cell_type": "code",
      "execution_count": null,
      "metadata": {
        "colab": {
          "base_uri": "https://localhost:8080/"
        },
        "id": "R6Mspz9ApPi0",
        "outputId": "8e0a9a0b-afc9-4dd6-8e25-a90e440deb8e"
      },
      "outputs": [],
      "source": [
        "%%writefile potato.cpp\n",
        "\n",
        "#include <iostream>\n",
        "#include <string>\n",
        "\n",
        "int main() {\n",
        "    \n",
        "  bool potato = true;\n",
        "  double myGrade = 0;\n",
        "\n",
        "  // If potato is true, then set myGrade to 76. \n",
        "  // Otherwise, set myGrade to 95.\n",
        "  if (potato) {\n",
        "      myGrade = 76;\n",
        "  } else {\n",
        "      myGrade = 95;\n",
        "  }\n",
        "\n",
        "  std::cout << \"potato = \" << potato << \", myGrade = \" << myGrade << std::endl;\n",
        "\n",
        "  // If myGrade is at least 90, print out \"A\"\n",
        "  // If myGrade is at least 80, print out \"B\"\n",
        "  // Otherwise, print out \"I didn't even know grades went this low!\"\n",
        "  if (myGrade >= 90) {\n",
        "      std::cout << \"A\" << std::endl;\n",
        "  } else if (myGrade >= 80) {\n",
        "      std::cout << \"B\" << std:: endl;\n",
        "  } else {\n",
        "      std::cout << \"I didn't even know grades went this low!\" << std::endl;\n",
        "  }\n",
        "\n",
        "  return 0;\n",
        "}"
      ]
    },
    {
      "cell_type": "code",
      "execution_count": null,
      "metadata": {
        "colab": {
          "base_uri": "https://localhost:8080/"
        },
        "id": "PmdJeVSjpZaQ",
        "outputId": "0a9e1f2a-bafa-457b-8507-24f98ab2868d"
      },
      "outputs": [],
      "source": [
        "%%bash\n",
        "\n",
        "g++ potato.cpp -o potato\n",
        "./potato"
      ]
    }
  ],
  "metadata": {
    "colab": {
      "provenance": []
    },
    "kernelspec": {
      "display_name": "Python 3.10.4 64-bit",
      "language": "python",
      "name": "python3"
    },
    "language_info": {
      "name": "python",
      "version": "3.10.4"
    },
    "vscode": {
      "interpreter": {
        "hash": "916dbcbb3f70747c44a77c7bcd40155683ae19c65e1c03b4aa3499c5328201f1"
      }
    }
  },
  "nbformat": 4,
  "nbformat_minor": 0
}
